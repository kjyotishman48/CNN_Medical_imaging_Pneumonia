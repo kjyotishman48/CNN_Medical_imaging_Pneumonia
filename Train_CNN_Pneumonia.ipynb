{
  "nbformat": 4,
  "nbformat_minor": 0,
  "metadata": {
    "colab": {
      "provenance": [],
      "authorship_tag": "ABX9TyMiIsGS258LTtnZSybJLCJN",
      "include_colab_link": true
    },
    "kernelspec": {
      "name": "python3",
      "display_name": "Python 3"
    },
    "language_info": {
      "name": "python"
    }
  },
  "cells": [
    {
      "cell_type": "markdown",
      "metadata": {
        "id": "view-in-github",
        "colab_type": "text"
      },
      "source": [
        "<a href=\"https://colab.research.google.com/github/kjyotishman48/CNN_Medical_imaging_Pneumonia/blob/colab_train_cnn_copy/Train_CNN_Pneumonia.ipynb\" target=\"_parent\"><img src=\"https://colab.research.google.com/assets/colab-badge.svg\" alt=\"Open In Colab\"/></a>"
      ]
    },
    {
      "cell_type": "code",
      "execution_count": 20,
      "metadata": {
        "id": "tND61EEHW109"
      },
      "outputs": [],
      "source": [
        "from keras.models import Sequential\n",
        "from keras.layers import Conv2D, Activation, MaxPooling2D, Dense, Flatten\n",
        "from keras.optimizers import SGD\n",
        "from keras.preprocessing.image import ImageDataGenerator\n",
        "import matplotlib.pyplot as plt"
      ]
    },
    {
      "cell_type": "code",
      "source": [
        "from google.colab import drive\n",
        "drive.mount('/content/gdrive', force_remount=True)"
      ],
      "metadata": {
        "colab": {
          "base_uri": "https://localhost:8080/"
        },
        "id": "t563kSQLW-TO",
        "outputId": "1513945c-eeb5-4e3d-fff0-32b720e8d0cd"
      },
      "execution_count": 21,
      "outputs": [
        {
          "output_type": "stream",
          "name": "stdout",
          "text": [
            "Mounted at /content/gdrive\n"
          ]
        }
      ]
    },
    {
      "cell_type": "code",
      "source": [
        "def Build_CNN_Model():\n",
        "    \n",
        "    # -------------------------------------------------------------------------\n",
        "    #                        Build CNN Model \n",
        "    # -------------------------------------------------------------------------\n",
        "    model = Sequential()  \n",
        "    \n",
        "    #  First Block of CNN\n",
        "    model.add(Conv2D(32, (3, 3), padding='same', input_shape=(224, 224, 3)))  \n",
        "    model.add(Activation('relu'))\n",
        "    model.add(MaxPooling2D((2, 2)))   \n",
        "    \n",
        "    #  Second Block of CNN\n",
        "    model.add(Conv2D(64, (3, 3),  padding='same'))  \n",
        "    model.add(Activation('relu'))\n",
        "    model.add(MaxPooling2D((2, 2)))\n",
        "    \n",
        "    #  Third Block of CNN\n",
        "    model.add(Conv2D(128, (3, 3), padding='same'))  \n",
        "    model.add(Activation('relu'))\n",
        "    model.add(MaxPooling2D((2, 2)))      \n",
        "    \n",
        "    #  Flatten and Fully Connected Layer\n",
        "    model.add(Flatten())\n",
        "    model.add(Dense(1000))\n",
        "    model.add(Activation('relu'))     \n",
        "    \n",
        "    #  Softmax Classifier\n",
        "    model.add(Dense(2))\n",
        "    model.add(Activation('softmax'))        \n",
        "    \n",
        "    #  Display model\n",
        "    model.summary()    \n",
        "\t\n",
        "    # compile model\n",
        "    opt = SGD(learning_rate=0.001)\n",
        "    model.compile(optimizer=opt, loss='categorical_crossentropy', metrics=['accuracy'])\n",
        "    \n",
        "    return model"
      ],
      "metadata": {
        "id": "sRIixmLIXDUl"
      },
      "execution_count": 22,
      "outputs": []
    },
    {
      "cell_type": "code",
      "source": [
        "def Train_CNN_Model(model):\n",
        "    \n",
        "    # -------------------------------------------------------------------------\n",
        "    #                        Train CNN Model \n",
        "    # -------------------------------------------------------------------------\n",
        "    \n",
        "    # create data generators    \n",
        "    train_datagen = ImageDataGenerator(\n",
        "                                     rescale=1.0/255.0,\n",
        "                                     featurewise_center= True,\n",
        "                                     featurewise_std_normalization = True)\n",
        "    \n",
        "    valid_datagen = ImageDataGenerator(\n",
        "                                     rescale=1.0/255.0,\n",
        "                                     featurewise_center= True,\n",
        "                                     featurewise_std_normalization = True)\n",
        "    \n",
        "   \n",
        "    # prepare iterators\n",
        "    batch_size=32\n",
        "    train_it = train_datagen.flow_from_directory('/content/gdrive/MyDrive/dataset/Data/train',classes =('abnormal','normal'),batch_size=batch_size, target_size=(224, 224))\n",
        "    valid_it = valid_datagen.flow_from_directory('/content/gdrive/MyDrive/dataset/Data/val',classes =('abnormal','normal'),batch_size=batch_size, target_size=(224, 224))\n",
        "\n",
        "\n",
        "    epochs=100;\n",
        "    \n",
        "    history = model.fit_generator(train_it, steps_per_epoch=len(train_it),\n",
        "\t\tvalidation_data=valid_it, validation_steps=len(valid_it), epochs=epochs, verbose=1)\n",
        "    \n",
        "    \n",
        "    #  \"Accuracy\"\n",
        "    plt.plot(history.history['accuracy'])\n",
        "    plt.plot(history.history['val_accuracy'])\n",
        "    plt.title('model accuracy')\n",
        "    plt.ylabel('accuracy')\n",
        "    plt.xlabel('epoch')\n",
        "    plt.legend(['train', 'validation'], loc='upper left')\n",
        "    plt.show()\n",
        "    \n",
        "    # \"Loss\"\n",
        "    plt.plot(history.history['loss'])\n",
        "    plt.plot(history.history['val_loss'])\n",
        "    plt.title('model loss')\n",
        "    plt.ylabel('loss')\n",
        "    plt.xlabel('epoch')\n",
        "    plt.legend(['train', 'validation'], loc='upper left')\n",
        "    plt.show()\n"
      ],
      "metadata": {
        "id": "G1mUlfy1ZAht"
      },
      "execution_count": 23,
      "outputs": []
    },
    {
      "cell_type": "code",
      "source": [
        "def SAVE_CNN_Model(model):\n",
        "# save model\n",
        "    model.save('medical_diagnosis_cnn_model.h5')"
      ],
      "metadata": {
        "id": "TvI8p7nqZPo0"
      },
      "execution_count": 24,
      "outputs": []
    },
    {
      "cell_type": "code",
      "source": [
        "# main entry \n",
        "model = Build_CNN_Model()"
      ],
      "metadata": {
        "colab": {
          "base_uri": "https://localhost:8080/"
        },
        "id": "ehpGFBVpZSig",
        "outputId": "e11a0cc8-c413-4055-b388-f12c53ba0f70"
      },
      "execution_count": 25,
      "outputs": [
        {
          "output_type": "stream",
          "name": "stdout",
          "text": [
            "Model: \"sequential_3\"\n",
            "_________________________________________________________________\n",
            " Layer (type)                Output Shape              Param #   \n",
            "=================================================================\n",
            " conv2d_9 (Conv2D)           (None, 224, 224, 32)      896       \n",
            "                                                                 \n",
            " activation_15 (Activation)  (None, 224, 224, 32)      0         \n",
            "                                                                 \n",
            " max_pooling2d_9 (MaxPooling  (None, 112, 112, 32)     0         \n",
            " 2D)                                                             \n",
            "                                                                 \n",
            " conv2d_10 (Conv2D)          (None, 112, 112, 64)      18496     \n",
            "                                                                 \n",
            " activation_16 (Activation)  (None, 112, 112, 64)      0         \n",
            "                                                                 \n",
            " max_pooling2d_10 (MaxPoolin  (None, 56, 56, 64)       0         \n",
            " g2D)                                                            \n",
            "                                                                 \n",
            " conv2d_11 (Conv2D)          (None, 56, 56, 128)       73856     \n",
            "                                                                 \n",
            " activation_17 (Activation)  (None, 56, 56, 128)       0         \n",
            "                                                                 \n",
            " max_pooling2d_11 (MaxPoolin  (None, 28, 28, 128)      0         \n",
            " g2D)                                                            \n",
            "                                                                 \n",
            " flatten_3 (Flatten)         (None, 100352)            0         \n",
            "                                                                 \n",
            " dense_6 (Dense)             (None, 1000)              100353000 \n",
            "                                                                 \n",
            " activation_18 (Activation)  (None, 1000)              0         \n",
            "                                                                 \n",
            " dense_7 (Dense)             (None, 2)                 2002      \n",
            "                                                                 \n",
            " activation_19 (Activation)  (None, 2)                 0         \n",
            "                                                                 \n",
            "=================================================================\n",
            "Total params: 100,448,250\n",
            "Trainable params: 100,448,250\n",
            "Non-trainable params: 0\n",
            "_________________________________________________________________\n"
          ]
        }
      ]
    },
    {
      "cell_type": "code",
      "source": [
        "Train_CNN_Model(model)"
      ],
      "metadata": {
        "colab": {
          "base_uri": "https://localhost:8080/",
          "height": 1000
        },
        "id": "KB_lC8MWZV7R",
        "outputId": "2b86dc17-7dcb-495f-e03a-aad70d957aa5"
      },
      "execution_count": 26,
      "outputs": [
        {
          "metadata": {
            "tags": null
          },
          "name": "stdout",
          "output_type": "stream",
          "text": [
            "Found 600 images belonging to 2 classes.\n",
            "Found 400 images belonging to 2 classes.\n"
          ]
        },
        {
          "metadata": {
            "tags": null
          },
          "name": "stderr",
          "output_type": "stream",
          "text": [
            "/usr/local/lib/python3.7/dist-packages/ipykernel_launcher.py:28: UserWarning: `Model.fit_generator` is deprecated and will be removed in a future version. Please use `Model.fit`, which supports generators.\n",
            "/usr/local/lib/python3.7/dist-packages/keras/preprocessing/image.py:1663: UserWarning: This ImageDataGenerator specifies `featurewise_center`, but it hasn't been fit on any training data. Fit it first by calling `.fit(numpy_data)`.\n",
            "  warnings.warn('This ImageDataGenerator specifies '\n",
            "/usr/local/lib/python3.7/dist-packages/keras/preprocessing/image.py:1671: UserWarning: This ImageDataGenerator specifies `featurewise_std_normalization`, but it hasn't been fit on any training data. Fit it first by calling `.fit(numpy_data)`.\n",
            "  warnings.warn('This ImageDataGenerator specifies '\n"
          ]
        },
        {
          "output_type": "stream",
          "name": "stdout",
          "text": [
            "Epoch 1/100\n",
            "19/19 [==============================] - 372s 20s/step - loss: 0.6891 - accuracy: 0.5750 - val_loss: 0.6822 - val_accuracy: 0.5125\n",
            "Epoch 2/100\n",
            "19/19 [==============================] - 74s 4s/step - loss: 0.6805 - accuracy: 0.5417 - val_loss: 0.6753 - val_accuracy: 0.7500\n",
            "Epoch 3/100\n",
            "19/19 [==============================] - 72s 4s/step - loss: 0.6731 - accuracy: 0.7183 - val_loss: 0.6691 - val_accuracy: 0.6475\n",
            "Epoch 4/100\n",
            "19/19 [==============================] - 73s 4s/step - loss: 0.6662 - accuracy: 0.6983 - val_loss: 0.6632 - val_accuracy: 0.6950\n",
            "Epoch 5/100\n",
            "19/19 [==============================] - 73s 4s/step - loss: 0.6600 - accuracy: 0.6800 - val_loss: 0.6577 - val_accuracy: 0.8425\n",
            "Epoch 6/100\n",
            "19/19 [==============================] - 72s 4s/step - loss: 0.6526 - accuracy: 0.7567 - val_loss: 0.6521 - val_accuracy: 0.8500\n",
            "Epoch 7/100\n",
            "19/19 [==============================] - 72s 4s/step - loss: 0.6464 - accuracy: 0.8050 - val_loss: 0.6463 - val_accuracy: 0.8250\n",
            "Epoch 8/100\n",
            "19/19 [==============================] - 73s 4s/step - loss: 0.6385 - accuracy: 0.8083 - val_loss: 0.6388 - val_accuracy: 0.8300\n",
            "Epoch 9/100\n",
            "19/19 [==============================] - 72s 4s/step - loss: 0.6305 - accuracy: 0.8283 - val_loss: 0.6317 - val_accuracy: 0.8075\n",
            "Epoch 10/100\n",
            "19/19 [==============================] - 72s 4s/step - loss: 0.6210 - accuracy: 0.7917 - val_loss: 0.6260 - val_accuracy: 0.7825\n",
            "Epoch 11/100\n",
            "19/19 [==============================] - 72s 4s/step - loss: 0.6136 - accuracy: 0.8500 - val_loss: 0.6160 - val_accuracy: 0.8175\n",
            "Epoch 12/100\n",
            "19/19 [==============================] - 73s 4s/step - loss: 0.6021 - accuracy: 0.8683 - val_loss: 0.6053 - val_accuracy: 0.8500\n",
            "Epoch 13/100\n",
            "19/19 [==============================] - 79s 4s/step - loss: 0.5903 - accuracy: 0.8617 - val_loss: 0.5953 - val_accuracy: 0.8400\n",
            "Epoch 14/100\n",
            "19/19 [==============================] - 74s 4s/step - loss: 0.5783 - accuracy: 0.8433 - val_loss: 0.5839 - val_accuracy: 0.8350\n",
            "Epoch 15/100\n",
            "19/19 [==============================] - 71s 4s/step - loss: 0.5621 - accuracy: 0.8733 - val_loss: 0.5734 - val_accuracy: 0.8100\n",
            "Epoch 16/100\n",
            "19/19 [==============================] - 72s 4s/step - loss: 0.5462 - accuracy: 0.8867 - val_loss: 0.5581 - val_accuracy: 0.8450\n",
            "Epoch 17/100\n",
            "19/19 [==============================] - 71s 4s/step - loss: 0.5339 - accuracy: 0.8583 - val_loss: 0.5425 - val_accuracy: 0.8275\n",
            "Epoch 18/100\n",
            "19/19 [==============================] - 73s 4s/step - loss: 0.5115 - accuracy: 0.8717 - val_loss: 0.5260 - val_accuracy: 0.8350\n",
            "Epoch 19/100\n",
            "19/19 [==============================] - 71s 4s/step - loss: 0.4917 - accuracy: 0.8867 - val_loss: 0.5146 - val_accuracy: 0.8375\n",
            "Epoch 20/100\n",
            "19/19 [==============================] - 71s 4s/step - loss: 0.4705 - accuracy: 0.8700 - val_loss: 0.5062 - val_accuracy: 0.7825\n",
            "Epoch 21/100\n",
            "19/19 [==============================] - 70s 4s/step - loss: 0.4462 - accuracy: 0.8900 - val_loss: 0.4827 - val_accuracy: 0.8350\n",
            "Epoch 22/100\n",
            "19/19 [==============================] - 75s 4s/step - loss: 0.4237 - accuracy: 0.8850 - val_loss: 0.4575 - val_accuracy: 0.8500\n",
            "Epoch 23/100\n",
            "19/19 [==============================] - 72s 4s/step - loss: 0.4026 - accuracy: 0.8967 - val_loss: 0.4592 - val_accuracy: 0.7825\n",
            "Epoch 24/100\n",
            "19/19 [==============================] - 73s 4s/step - loss: 0.3788 - accuracy: 0.8933 - val_loss: 0.4394 - val_accuracy: 0.8000\n",
            "Epoch 25/100\n",
            "19/19 [==============================] - 70s 4s/step - loss: 0.3549 - accuracy: 0.9033 - val_loss: 0.4090 - val_accuracy: 0.8475\n",
            "Epoch 26/100\n",
            "19/19 [==============================] - 80s 4s/step - loss: 0.3400 - accuracy: 0.8900 - val_loss: 0.3997 - val_accuracy: 0.8375\n",
            "Epoch 27/100\n",
            "19/19 [==============================] - 70s 4s/step - loss: 0.3172 - accuracy: 0.9067 - val_loss: 0.3818 - val_accuracy: 0.8475\n",
            "Epoch 28/100\n",
            "19/19 [==============================] - 73s 4s/step - loss: 0.3120 - accuracy: 0.8983 - val_loss: 0.3843 - val_accuracy: 0.8550\n",
            "Epoch 29/100\n",
            "19/19 [==============================] - 79s 4s/step - loss: 0.2862 - accuracy: 0.9083 - val_loss: 0.3625 - val_accuracy: 0.8525\n",
            "Epoch 30/100\n",
            "19/19 [==============================] - 74s 4s/step - loss: 0.2691 - accuracy: 0.9150 - val_loss: 0.3687 - val_accuracy: 0.8575\n",
            "Epoch 31/100\n",
            "19/19 [==============================] - 79s 4s/step - loss: 0.2676 - accuracy: 0.9083 - val_loss: 0.3672 - val_accuracy: 0.8200\n",
            "Epoch 32/100\n",
            "19/19 [==============================] - 73s 4s/step - loss: 0.2496 - accuracy: 0.9217 - val_loss: 0.3428 - val_accuracy: 0.8675\n",
            "Epoch 33/100\n",
            "19/19 [==============================] - 71s 4s/step - loss: 0.2393 - accuracy: 0.9100 - val_loss: 0.3693 - val_accuracy: 0.8050\n",
            "Epoch 34/100\n",
            "19/19 [==============================] - 73s 4s/step - loss: 0.2470 - accuracy: 0.9067 - val_loss: 0.3193 - val_accuracy: 0.8575\n",
            "Epoch 35/100\n",
            "19/19 [==============================] - 71s 4s/step - loss: 0.2251 - accuracy: 0.9167 - val_loss: 0.4270 - val_accuracy: 0.8300\n",
            "Epoch 36/100\n",
            "19/19 [==============================] - 80s 4s/step - loss: 0.2239 - accuracy: 0.9183 - val_loss: 0.3083 - val_accuracy: 0.8700\n",
            "Epoch 37/100\n",
            "19/19 [==============================] - 79s 4s/step - loss: 0.2218 - accuracy: 0.9167 - val_loss: 0.3038 - val_accuracy: 0.8725\n",
            "Epoch 38/100\n",
            "19/19 [==============================] - 74s 4s/step - loss: 0.1957 - accuracy: 0.9283 - val_loss: 0.3592 - val_accuracy: 0.8700\n",
            "Epoch 39/100\n",
            "19/19 [==============================] - 73s 4s/step - loss: 0.1846 - accuracy: 0.9433 - val_loss: 0.3364 - val_accuracy: 0.8275\n",
            "Epoch 40/100\n",
            "19/19 [==============================] - 81s 4s/step - loss: 0.2192 - accuracy: 0.9200 - val_loss: 0.3990 - val_accuracy: 0.8025\n",
            "Epoch 41/100\n",
            "19/19 [==============================] - 80s 4s/step - loss: 0.1835 - accuracy: 0.9317 - val_loss: 0.3310 - val_accuracy: 0.8275\n",
            "Epoch 42/100\n",
            "19/19 [==============================] - 79s 4s/step - loss: 0.2059 - accuracy: 0.9183 - val_loss: 0.3019 - val_accuracy: 0.8975\n",
            "Epoch 43/100\n",
            "19/19 [==============================] - 73s 4s/step - loss: 0.1716 - accuracy: 0.9333 - val_loss: 0.3050 - val_accuracy: 0.8900\n",
            "Epoch 44/100\n",
            "19/19 [==============================] - 82s 4s/step - loss: 0.1660 - accuracy: 0.9350 - val_loss: 0.2768 - val_accuracy: 0.8950\n",
            "Epoch 45/100\n",
            "19/19 [==============================] - 83s 4s/step - loss: 0.1424 - accuracy: 0.9583 - val_loss: 0.2851 - val_accuracy: 0.9050\n",
            "Epoch 46/100\n",
            "19/19 [==============================] - 73s 4s/step - loss: 0.2687 - accuracy: 0.8767 - val_loss: 0.2965 - val_accuracy: 0.8575\n",
            "Epoch 47/100\n",
            "19/19 [==============================] - 73s 4s/step - loss: 0.2031 - accuracy: 0.9183 - val_loss: 0.2632 - val_accuracy: 0.9000\n",
            "Epoch 48/100\n",
            "19/19 [==============================] - 72s 4s/step - loss: 0.1713 - accuracy: 0.9400 - val_loss: 0.3506 - val_accuracy: 0.8200\n",
            "Epoch 49/100\n",
            "19/19 [==============================] - 73s 4s/step - loss: 0.1841 - accuracy: 0.9233 - val_loss: 0.3349 - val_accuracy: 0.8725\n",
            "Epoch 50/100\n",
            "19/19 [==============================] - 80s 4s/step - loss: 0.1770 - accuracy: 0.9317 - val_loss: 0.2854 - val_accuracy: 0.8675\n",
            "Epoch 51/100\n",
            "19/19 [==============================] - 73s 4s/step - loss: 0.1606 - accuracy: 0.9383 - val_loss: 0.3639 - val_accuracy: 0.8250\n",
            "Epoch 52/100\n",
            "19/19 [==============================] - 71s 4s/step - loss: 0.1410 - accuracy: 0.9467 - val_loss: 0.2936 - val_accuracy: 0.8600\n",
            "Epoch 53/100\n",
            "19/19 [==============================] - 82s 4s/step - loss: 0.1246 - accuracy: 0.9633 - val_loss: 0.2607 - val_accuracy: 0.8750\n",
            "Epoch 54/100\n",
            "19/19 [==============================] - 72s 4s/step - loss: 0.1165 - accuracy: 0.9633 - val_loss: 0.3030 - val_accuracy: 0.8525\n",
            "Epoch 55/100\n",
            "19/19 [==============================] - 74s 4s/step - loss: 0.1633 - accuracy: 0.9317 - val_loss: 0.2600 - val_accuracy: 0.8800\n",
            "Epoch 56/100\n",
            "19/19 [==============================] - 75s 4s/step - loss: 0.1064 - accuracy: 0.9650 - val_loss: 0.2532 - val_accuracy: 0.8825\n",
            "Epoch 57/100\n",
            "19/19 [==============================] - 75s 4s/step - loss: 0.1076 - accuracy: 0.9600 - val_loss: 0.2433 - val_accuracy: 0.9125\n",
            "Epoch 58/100\n",
            "19/19 [==============================] - 73s 4s/step - loss: 0.1686 - accuracy: 0.9217 - val_loss: 0.2522 - val_accuracy: 0.8850\n",
            "Epoch 59/100\n",
            "19/19 [==============================] - 73s 4s/step - loss: 0.1390 - accuracy: 0.9517 - val_loss: 0.2502 - val_accuracy: 0.8900\n",
            "Epoch 60/100\n",
            "19/19 [==============================] - 72s 4s/step - loss: 0.1035 - accuracy: 0.9617 - val_loss: 0.2706 - val_accuracy: 0.8750\n",
            "Epoch 61/100\n",
            "19/19 [==============================] - 74s 4s/step - loss: 0.1165 - accuracy: 0.9600 - val_loss: 0.2963 - val_accuracy: 0.9025\n",
            "Epoch 62/100\n",
            "19/19 [==============================] - 72s 4s/step - loss: 0.1095 - accuracy: 0.9667 - val_loss: 0.2448 - val_accuracy: 0.8950\n",
            "Epoch 63/100\n",
            "19/19 [==============================] - 74s 4s/step - loss: 0.1067 - accuracy: 0.9650 - val_loss: 0.2343 - val_accuracy: 0.8975\n",
            "Epoch 64/100\n",
            "19/19 [==============================] - 76s 4s/step - loss: 0.1896 - accuracy: 0.9300 - val_loss: 0.2292 - val_accuracy: 0.9075\n",
            "Epoch 65/100\n",
            "19/19 [==============================] - 74s 4s/step - loss: 0.1277 - accuracy: 0.9483 - val_loss: 0.2660 - val_accuracy: 0.8800\n",
            "Epoch 66/100\n",
            "19/19 [==============================] - 79s 4s/step - loss: 0.0992 - accuracy: 0.9717 - val_loss: 0.2439 - val_accuracy: 0.8950\n",
            "Epoch 67/100\n",
            "19/19 [==============================] - 73s 4s/step - loss: 0.1018 - accuracy: 0.9633 - val_loss: 0.2355 - val_accuracy: 0.8975\n",
            "Epoch 68/100\n",
            "19/19 [==============================] - 72s 4s/step - loss: 0.1238 - accuracy: 0.9567 - val_loss: 0.2344 - val_accuracy: 0.9200\n",
            "Epoch 69/100\n",
            "19/19 [==============================] - 73s 4s/step - loss: 0.1529 - accuracy: 0.9333 - val_loss: 0.2253 - val_accuracy: 0.9150\n",
            "Epoch 70/100\n",
            "19/19 [==============================] - 70s 4s/step - loss: 0.0912 - accuracy: 0.9683 - val_loss: 0.2703 - val_accuracy: 0.8750\n",
            "Epoch 71/100\n",
            "19/19 [==============================] - 71s 4s/step - loss: 0.1195 - accuracy: 0.9500 - val_loss: 0.3003 - val_accuracy: 0.8625\n",
            "Epoch 72/100\n",
            "19/19 [==============================] - 76s 4s/step - loss: 0.0932 - accuracy: 0.9683 - val_loss: 0.2252 - val_accuracy: 0.9000\n",
            "Epoch 73/100\n",
            "19/19 [==============================] - 74s 4s/step - loss: 0.0938 - accuracy: 0.9600 - val_loss: 0.3020 - val_accuracy: 0.8625\n",
            "Epoch 74/100\n",
            "19/19 [==============================] - 74s 4s/step - loss: 0.1642 - accuracy: 0.9283 - val_loss: 0.2259 - val_accuracy: 0.9050\n",
            "Epoch 75/100\n",
            "19/19 [==============================] - 72s 4s/step - loss: 0.3914 - accuracy: 0.8633 - val_loss: 0.2294 - val_accuracy: 0.9000\n",
            "Epoch 76/100\n",
            "19/19 [==============================] - 81s 4s/step - loss: 0.1605 - accuracy: 0.9283 - val_loss: 0.2274 - val_accuracy: 0.9150\n",
            "Epoch 77/100\n",
            "19/19 [==============================] - 71s 4s/step - loss: 0.0869 - accuracy: 0.9750 - val_loss: 0.2805 - val_accuracy: 0.9125\n",
            "Epoch 78/100\n",
            "19/19 [==============================] - 73s 4s/step - loss: 0.1245 - accuracy: 0.9633 - val_loss: 0.2208 - val_accuracy: 0.9075\n",
            "Epoch 79/100\n",
            "19/19 [==============================] - 72s 4s/step - loss: 0.0803 - accuracy: 0.9750 - val_loss: 0.2266 - val_accuracy: 0.9050\n",
            "Epoch 80/100\n",
            "19/19 [==============================] - 76s 4s/step - loss: 0.1030 - accuracy: 0.9583 - val_loss: 0.2296 - val_accuracy: 0.9225\n",
            "Epoch 81/100\n",
            "19/19 [==============================] - 71s 4s/step - loss: 0.0875 - accuracy: 0.9783 - val_loss: 0.2357 - val_accuracy: 0.8975\n",
            "Epoch 82/100\n",
            "19/19 [==============================] - 72s 4s/step - loss: 0.0808 - accuracy: 0.9700 - val_loss: 0.2697 - val_accuracy: 0.8775\n",
            "Epoch 83/100\n",
            "19/19 [==============================] - 71s 4s/step - loss: 0.0999 - accuracy: 0.9567 - val_loss: 0.3445 - val_accuracy: 0.9000\n",
            "Epoch 84/100\n",
            "19/19 [==============================] - 73s 4s/step - loss: 0.0910 - accuracy: 0.9700 - val_loss: 0.2176 - val_accuracy: 0.9200\n",
            "Epoch 85/100\n",
            "19/19 [==============================] - 71s 4s/step - loss: 0.0944 - accuracy: 0.9667 - val_loss: 0.2134 - val_accuracy: 0.9225\n",
            "Epoch 86/100\n",
            "19/19 [==============================] - 71s 4s/step - loss: 0.0748 - accuracy: 0.9783 - val_loss: 0.2526 - val_accuracy: 0.8875\n",
            "Epoch 87/100\n",
            "19/19 [==============================] - 71s 4s/step - loss: 0.0830 - accuracy: 0.9683 - val_loss: 0.2291 - val_accuracy: 0.9250\n",
            "Epoch 88/100\n",
            "19/19 [==============================] - 79s 4s/step - loss: 0.0901 - accuracy: 0.9700 - val_loss: 0.2117 - val_accuracy: 0.9150\n",
            "Epoch 89/100\n",
            "19/19 [==============================] - 71s 4s/step - loss: 0.0863 - accuracy: 0.9667 - val_loss: 0.2102 - val_accuracy: 0.9200\n",
            "Epoch 90/100\n",
            "19/19 [==============================] - 72s 4s/step - loss: 0.0842 - accuracy: 0.9683 - val_loss: 0.2129 - val_accuracy: 0.9100\n",
            "Epoch 91/100\n",
            "19/19 [==============================] - 72s 4s/step - loss: 0.0756 - accuracy: 0.9767 - val_loss: 0.2183 - val_accuracy: 0.9025\n",
            "Epoch 92/100\n",
            "19/19 [==============================] - 71s 4s/step - loss: 0.0766 - accuracy: 0.9800 - val_loss: 0.2200 - val_accuracy: 0.9025\n",
            "Epoch 93/100\n",
            "19/19 [==============================] - 71s 4s/step - loss: 0.0733 - accuracy: 0.9833 - val_loss: 0.2476 - val_accuracy: 0.8875\n",
            "Epoch 94/100\n",
            "19/19 [==============================] - 72s 4s/step - loss: 0.0731 - accuracy: 0.9783 - val_loss: 0.2676 - val_accuracy: 0.8775\n",
            "Epoch 95/100\n",
            "19/19 [==============================] - 71s 4s/step - loss: 0.0878 - accuracy: 0.9683 - val_loss: 0.2142 - val_accuracy: 0.9225\n",
            "Epoch 96/100\n",
            "19/19 [==============================] - 76s 4s/step - loss: 0.0996 - accuracy: 0.9550 - val_loss: 0.2190 - val_accuracy: 0.9275\n",
            "Epoch 97/100\n",
            "19/19 [==============================] - 70s 4s/step - loss: 0.0697 - accuracy: 0.9750 - val_loss: 0.2417 - val_accuracy: 0.9275\n",
            "Epoch 98/100\n",
            "19/19 [==============================] - 70s 4s/step - loss: 0.0638 - accuracy: 0.9767 - val_loss: 0.2328 - val_accuracy: 0.9250\n",
            "Epoch 99/100\n",
            "19/19 [==============================] - 70s 4s/step - loss: 0.0686 - accuracy: 0.9767 - val_loss: 0.2259 - val_accuracy: 0.9025\n",
            "Epoch 100/100\n",
            "19/19 [==============================] - 70s 4s/step - loss: 0.0637 - accuracy: 0.9817 - val_loss: 0.2705 - val_accuracy: 0.8800\n"
          ]
        },
        {
          "output_type": "display_data",
          "data": {
            "text/plain": [
              "<Figure size 432x288 with 1 Axes>"
            ],
            "image/png": "[encoded data removed]"
          },
          "metadata": {
            "needs_background": "light"
          }
        },
        {
          "output_type": "display_data",
          "data": {
            "text/plain": [
              "<Figure size 432x288 with 1 Axes>"
            ],
            "image/png": "[encoded data removed]"
          },
          "metadata": {
            "needs_background": "light"
          }
        }
      ]
    },
    {
      "cell_type": "code",
      "source": [
        "SAVE_CNN_Model(model)"
      ],
      "metadata": {
        "id": "s0dOTEjjaFZG"
      },
      "execution_count": 27,
      "outputs": []
    },
    {
      "cell_type": "code",
      "source": [],
      "metadata": {
        "id": "V7KKYP8AHwZY"
      },
      "execution_count": null,
      "outputs": []
    },
    {
      "cell_type": "code",
      "source": [],
      "metadata": {
        "id": "t7hvDI8LH-8Q"
      },
      "execution_count": null,
      "outputs": []
    }
  ]
}